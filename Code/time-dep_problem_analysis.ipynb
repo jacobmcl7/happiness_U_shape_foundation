{
 "cells": [
  {
   "cell_type": "markdown",
   "id": "0bbfe495",
   "metadata": {},
   "source": [
    "## Solving dynamic finite-horizon optimisation problems recursively"
   ]
  },
  {
   "cell_type": "markdown",
   "id": "72fcc2cb",
   "metadata": {},
   "source": [
    "Start by defining a function that sets up and then simulates from a specified starting point "
   ]
  },
  {
   "cell_type": "markdown",
   "id": "2f8df6c5",
   "metadata": {},
   "source": []
  }
 ],
 "metadata": {
  "kernelspec": {
   "display_name": "Python 3",
   "language": "python",
   "name": "python3"
  },
  "language_info": {
   "name": "python",
   "version": "3.13.0"
  }
 },
 "nbformat": 4,
 "nbformat_minor": 5
}
